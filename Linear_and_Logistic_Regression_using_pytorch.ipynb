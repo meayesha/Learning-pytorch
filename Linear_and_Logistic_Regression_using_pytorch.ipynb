{
  "nbformat": 4,
  "nbformat_minor": 0,
  "metadata": {
    "colab": {
      "provenance": []
    },
    "kernelspec": {
      "name": "python3",
      "display_name": "Python 3"
    },
    "language_info": {
      "name": "python"
    }
  },
  "cells": [
    {
      "cell_type": "markdown",
      "source": [
        "# Linear Regression using Pytorch\n"
      ],
      "metadata": {
        "id": "SheKd9uQLqTN"
      }
    },
    {
      "cell_type": "code",
      "execution_count": 1,
      "metadata": {
        "id": "lLer4ktSHssg"
      },
      "outputs": [],
      "source": [
        "import torch\n",
        "import torch.nn as nn\n",
        "import numpy as np\n",
        "from sklearn import datasets\n",
        "from sklearn.preprocessing import StandardScaler\n",
        "from sklearn.model_selection import train_test_split\n",
        "import matplotlib.pyplot as plt"
      ]
    },
    {
      "cell_type": "code",
      "source": [
        "X_numpy, y_numpy = datasets.make_regression(n_samples=100, n_features=1, noise=20, random_state=1)\n",
        "\n",
        "X = torch.from_numpy(X_numpy.astype(np.float32))\n",
        "y = torch.from_numpy(y_numpy.astype(np.float32))\n",
        "y= y.view(y.shape[0],1)\n",
        "\n",
        "n_sample, n_feature = X.shape\n",
        "\n",
        "input_size = n_feature\n",
        "output_size = 1\n",
        "model = nn.Linear(input_size, output_size)\n",
        "\n",
        "criterion = nn.MSELoss()\n",
        "optimizer = torch.optim.SGD(model.parameters(), lr=0.01)\n",
        "\n",
        "for epoch in range(100):\n",
        "    y_pred = model(X)\n",
        "    loss = criterion(y_pred, y)\n",
        "    loss.backward()\n",
        "    optimizer.step()\n",
        "    optimizer.zero_grad()\n",
        "\n",
        "    if(epoch+1)%10 == 0:\n",
        "        print(f'epoch: {epoch+1}, loss = {loss.item():.4f}')\n",
        "\n",
        "predicted = model(X).detach().numpy()\n",
        "\n",
        "plt.plot(X_numpy, y_numpy, 'ro')\n",
        "plt.plot(X_numpy, predicted, 'b')\n",
        "plt.show()"
      ],
      "metadata": {
        "colab": {
          "base_uri": "https://localhost:8080/",
          "height": 609
        },
        "id": "iDr_JxgqH6Wu",
        "outputId": "581210aa-a671-4f3c-9fa7-072f08f56af1"
      },
      "execution_count": 2,
      "outputs": [
        {
          "output_type": "stream",
          "name": "stdout",
          "text": [
            "epoch: 10, loss = 4436.2891\n",
            "epoch: 20, loss = 3307.1057\n",
            "epoch: 30, loss = 2490.6453\n",
            "epoch: 40, loss = 1899.6421\n",
            "epoch: 50, loss = 1471.3951\n",
            "epoch: 60, loss = 1160.7847\n",
            "epoch: 70, loss = 935.2979\n",
            "epoch: 80, loss = 771.4719\n",
            "epoch: 90, loss = 652.3560\n",
            "epoch: 100, loss = 565.6882\n"
          ]
        },
        {
          "output_type": "display_data",
          "data": {
            "text/plain": [
              "<Figure size 640x480 with 1 Axes>"
            ],
            "image/png": "[encoded data removed]"
          },
          "metadata": {}
        }
      ]
    },
    {
      "cell_type": "markdown",
      "source": [
        "# Logistic Regression using Pytorch"
      ],
      "metadata": {
        "id": "xB_qOGwYLyW-"
      }
    },
    {
      "cell_type": "code",
      "source": [
        "#preparing the data\n",
        "\n",
        "bc = datasets.load_breast_cancer()\n",
        "X, y = bc.data, bc.target\n",
        "\n",
        "n_samples, n_features = X.shape\n",
        "\n",
        "X_train, X_test, y_train, y_test = train_test_split(X, y, test_size=0.2, random_state=1234)\n",
        "\n",
        "# we scale our data using standard scalar that will scale our features to have zero mean and unit variance\n",
        "sc = StandardScaler()\n",
        "X_train = sc.fit_transform(X_train)\n",
        "X_test = sc.transform(X_test)\n",
        "\n",
        "X_train = torch.from_numpy(X_train.astype(np.float32))\n",
        "X_test = torch.from_numpy(X_test.astype(np.float32))\n",
        "y_train = torch.from_numpy(y_train.astype(np.float32))\n",
        "y_test = torch.from_numpy(y_test.astype(np.float32))\n",
        "\n",
        "#we reshape the y to have one row and one column\n",
        "y_train = y_train.view(y_train.shape[0], 1)\n",
        "y_test = y_test.view(y_test.shape[0], 1)"
      ],
      "metadata": {
        "id": "1KIixkgaL3GU"
      },
      "execution_count": 3,
      "outputs": []
    },
    {
      "cell_type": "code",
      "source": [
        "#setting up the model\n",
        "class LogisticRegression(nn.Module):\n",
        "    def __init__(self, n_input_features):\n",
        "        super(LogisticRegression, self).__init__()\n",
        "        self.linear = nn.Linear(n_input_features, 1)\n",
        "\n",
        "    def forward(self, x):\n",
        "        y_predicted = torch.sigmoid(self.linear(x))\n",
        "        return y_predicted\n",
        "model = LogisticRegression(n_features)\n",
        "criterion = nn.BCELoss()\n",
        "optimizer = torch.optim.SGD(model.parameters(), lr=0.01)\n",
        "num_epochs = 200\n",
        "for epoch in range(num_epochs):\n",
        "    y_predicted = model(X_train)\n",
        "    loss = criterion(y_predicted, y_train)\n",
        "    loss.backward()\n",
        "    optimizer.step()\n",
        "    optimizer.zero_grad()\n",
        "\n",
        "    if (epoch+1)%10 == 0:\n",
        "        print(f'epoch: {epoch+1}, loss = {loss.item():.4f}')\n",
        "\n",
        "with torch.no_grad():\n",
        "    y_predicted = model(X_test)\n",
        "    y_predicted_cls = y_predicted.round()\n",
        "    acc = y_predicted_cls.eq(y_test).sum() / float(y_test.shape[0])\n",
        "    print(f'accuracy: {acc:.4f}')"
      ],
      "metadata": {
        "colab": {
          "base_uri": "https://localhost:8080/"
        },
        "id": "QxvY5zQ8UWln",
        "outputId": "c362d1ed-e14a-4bb7-8061-d5fe23375e8f"
      },
      "execution_count": 5,
      "outputs": [
        {
          "output_type": "stream",
          "name": "stdout",
          "text": [
            "epoch: 10, loss = 0.5580\n",
            "epoch: 20, loss = 0.4713\n",
            "epoch: 30, loss = 0.4129\n",
            "epoch: 40, loss = 0.3708\n",
            "epoch: 50, loss = 0.3390\n",
            "epoch: 60, loss = 0.3139\n",
            "epoch: 70, loss = 0.2935\n",
            "epoch: 80, loss = 0.2766\n",
            "epoch: 90, loss = 0.2623\n",
            "epoch: 100, loss = 0.2500\n",
            "epoch: 110, loss = 0.2393\n",
            "epoch: 120, loss = 0.2298\n",
            "epoch: 130, loss = 0.2213\n",
            "epoch: 140, loss = 0.2138\n",
            "epoch: 150, loss = 0.2069\n",
            "epoch: 160, loss = 0.2007\n",
            "epoch: 170, loss = 0.1950\n",
            "epoch: 180, loss = 0.1898\n",
            "epoch: 190, loss = 0.1849\n",
            "epoch: 200, loss = 0.1805\n",
            "accuracy: 0.9211\n"
          ]
        }
      ]
    }
  ]
}